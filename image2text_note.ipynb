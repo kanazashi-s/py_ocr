{
 "cells": [
  {
   "cell_type": "markdown",
   "metadata": {},
   "source": [
    "# image2text_note\n",
    "pyocrライブラリを介して、tesseractを利用して文字認識を行います。  "
   ]
  },
  {
   "cell_type": "markdown",
   "metadata": {},
   "source": [
    "> Copyright [zashio]  \n",
    ">   \n",
    "> Licensed under the Apache License, Version 2.0 (the \"License\");  \n",
    "> you may not use this file except in compliance with the License.  \n",
    "> You may obtain a copy of the License at  \n",
    " \n",
    ">     http://www.apache.org/licenses/LICENSE-2.0  \n",
    "  \n",
    "> Unless required by applicable law or agreed to in writing, software  \n",
    "> distributed under the License is distributed on an \"AS IS\" BASIS,  \n",
    "> WITHOUT WARRANTIES OR CONDITIONS OF ANY KIND, either express or implied.  \n",
    "> See the License for the specific language governing permissions and  \n",
    "> limitations under the License.  "
   ]
  },
  {
   "cell_type": "markdown",
   "metadata": {},
   "source": [
    "### importするライブラリの紹介\n",
    "pillow( PIL ) : OpenCVのような高度な処理はできないが、OpenCVよりもコードが平易  \n",
    "pyocr : pythonでtesseractなどのOCRライブラリを利用するためのライブラリ  \n",
    "tesseract : 現在はGoogleが開発しているオープンソースのOCRライブラリ(PCにインストール済み)"
   ]
  },
  {
   "cell_type": "code",
   "execution_count": null,
   "metadata": {},
   "outputs": [],
   "source": [
    "from PIL import Image, ImageDraw, ImageFont\n",
    "import sys\n",
    "\n",
    "import pyocr\n",
    "import pyocr.builders"
   ]
  },
  {
   "cell_type": "markdown",
   "metadata": {},
   "source": [
    "### 初期設定\n",
    "tool : tesseract使うため、0番目の要素を指定  \n",
    "use_rang : Japaneseを使うため、1番目の要素を指定  \n",
    "filepath : 画像ファイルへの相対パス  "
   ]
  },
  {
   "cell_type": "code",
   "execution_count": null,
   "metadata": {},
   "outputs": [],
   "source": [
    "tool = pyocr.get_available_tools()[0]\n",
    "use_lang = tool.get_available_languages()[1]\n",
    "filepath = 'resource/Hanada-Ritsumen800.png'"
   ]
  },
  {
   "cell_type": "markdown",
   "metadata": {},
   "source": [
    "### 画像の前処理\n",
    "グレイスケールで読み込み、2値化  \n",
    "再びRGB画像に変換(後ほど青色や赤色で描画するため、3チャンネル画像でなければならない)  "
   ]
  },
  {
   "cell_type": "code",
   "execution_count": null,
   "metadata": {},
   "outputs": [],
   "source": [
    "image = Image.open(filepath).convert(\"L\")\n",
    "image = image.point(lambda x: 0 if x < 128 else x) \n",
    "\n",
    "\n",
    "image = Image.merge(\n",
    "    \"RGB\",\n",
    "    (   \n",
    "        image.point(lambda x: x),\n",
    "        image.point(lambda x: x),\n",
    "        image.point(lambda x: x)\n",
    "    )\n",
    ")\n"
   ]
  },
  {
   "cell_type": "markdown",
   "metadata": {},
   "source": [
    "### 画像からテキストを取得"
   ]
  },
  {
   "cell_type": "code",
   "execution_count": null,
   "metadata": {},
   "outputs": [],
   "source": [
    "txt = tool.image_to_string(\n",
    "    image,\n",
    "    lang=use_lang,\n",
    "    builder=pyocr.builders.TextBuilder()\n",
    ")"
   ]
  },
  {
   "cell_type": "markdown",
   "metadata": {},
   "source": [
    "### 文字の位置(box)も取得\n",
    "今回はこれを利用  \n",
    "word_boxesは文字列とその文字列を囲む長方形の座標の情報を保持"
   ]
  },
  {
   "cell_type": "code",
   "execution_count": null,
   "metadata": {},
   "outputs": [],
   "source": [
    "word_boxes = tool.image_to_string(\n",
    "    image,\n",
    "    lang=use_lang,\n",
    "    builder=pyocr.builders.WordBoxBuilder()\n",
    ")"
   ]
  },
  {
   "cell_type": "markdown",
   "metadata": {},
   "source": [
    "### 行ごとまとめて取得"
   ]
  },
  {
   "cell_type": "code",
   "execution_count": null,
   "metadata": {},
   "outputs": [],
   "source": [
    "line_and_word_boxes = tool.image_to_string(\n",
    "    image,\n",
    "    lang=use_lang,\n",
    "    builder=pyocr.builders.LineBoxBuilder()\n",
    ")"
   ]
  },
  {
   "cell_type": "markdown",
   "metadata": {},
   "source": [
    "### boxを描画する関数を定義"
   ]
  },
  {
   "cell_type": "code",
   "execution_count": null,
   "metadata": {},
   "outputs": [],
   "source": [
    "def draw_boxes(image, word_boxes, color):\n",
    "    \"\"\"長方形の左上と右下の頂点を受け取り画像に描画する\"\"\"\n",
    "    draw = ImageDraw.Draw(image)\n",
    "\n",
    "    for word_box in word_boxes:\n",
    "        \n",
    "        pos1_x = word_box.position[0][0]\n",
    "        pos1_y = word_box.position[0][1]\n",
    "        pos2_x = word_box.position[1][0]\n",
    "        pos2_y = word_box.position[1][1]\n",
    "        \n",
    "        draw.polygon([\n",
    "            pos1_x, pos1_y,\n",
    "            pos2_x, pos1_y,\n",
    "            pos2_x, pos2_y,\n",
    "            pos1_x, pos2_y], None, color)\n",
    "            \n",
    "    return image"
   ]
  },
  {
   "cell_type": "markdown",
   "metadata": {},
   "source": [
    "### Textを描画する関数を定義"
   ]
  },
  {
   "cell_type": "code",
   "execution_count": null,
   "metadata": {},
   "outputs": [],
   "source": [
    "def draw_texts(image, word_boxes, color):\n",
    "    draw = ImageDraw.Draw(image)\n",
    "    fnt = ImageFont.truetype('resource/Kokoro.otf',65)\n",
    "\n",
    "#    日本語文を扱う場合には、上記のようにフォントを設定する必要がある\n",
    "#    draw.text()の引数に、font=fntを追加する。\n",
    "    \n",
    "    for word_box in word_boxes:\n",
    "        \n",
    "        pos1_x = word_box.position[0][0]\n",
    "        pos2_y = word_box.position[1][1]\n",
    "    \n",
    "        draw_position = (pos1_x, pos2_y)\n",
    "        \n",
    "        content = word_box.content\n",
    "        \n",
    "        draw.text(draw_position, content, color, font=fnt)\n",
    "        \n",
    "    return image"
   ]
  },
  {
   "cell_type": "markdown",
   "metadata": {},
   "source": [
    "### 上記の2つの描画関数を実行"
   ]
  },
  {
   "cell_type": "code",
   "execution_count": null,
   "metadata": {},
   "outputs": [],
   "source": [
    "draw_boxes(image, word_boxes, 'Red')\n",
    "draw_texts(image, word_boxes, 'blue')"
   ]
  },
  {
   "cell_type": "code",
   "execution_count": null,
   "metadata": {},
   "outputs": [],
   "source": [
    "image.save('resource/OutHanada-Ritsumen800.png')"
   ]
  }
 ],
 "metadata": {
  "kernelspec": {
   "display_name": "Python 3",
   "language": "python",
   "name": "python3"
  },
  "language_info": {
   "codemirror_mode": {
    "name": "ipython",
    "version": 3
   },
   "file_extension": ".py",
   "mimetype": "text/x-python",
   "name": "python",
   "nbconvert_exporter": "python",
   "pygments_lexer": "ipython3",
   "version": "3.6.6"
  }
 },
 "nbformat": 4,
 "nbformat_minor": 2
}
